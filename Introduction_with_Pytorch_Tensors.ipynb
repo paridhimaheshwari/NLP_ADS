{
  "cells": [
    {
      "cell_type": "code",
      "execution_count": 2,
      "metadata": {
        "id": "lJ3c8uvK7ap5"
      },
      "outputs": [],
      "source": [
        "import torch\n",
        "import math"
      ]
    },
    {
      "cell_type": "markdown",
      "metadata": {
        "id": "fIgb-Z1TAGux"
      },
      "source": [
        "**PyTorch Tensors**: Tensors are the central data abstraction in PyTorch."
      ]
    },
    {
      "cell_type": "markdown",
      "metadata": {
        "id": "OFOTFhDRATvm"
      },
      "source": [
        "\n",
        "**Creating Tensors**: The simplest way to create a tensor is with the torch.empty() call:"
      ]
    },
    {
      "cell_type": "code",
      "execution_count": 3,
      "metadata": {
        "colab": {
          "base_uri": "https://localhost:8080/"
        },
        "id": "KFDkj19TAQno",
        "outputId": "cb270b0b-8b50-49c4-c5f2-4a7f3b204b65"
      },
      "outputs": [
        {
          "name": "stdout",
          "output_type": "stream",
          "text": [
            "<class 'torch.Tensor'>\n",
            "tensor([[0., 0., 0., 0.],\n",
            "        [0., 0., 0., 0.],\n",
            "        [0., 0., 0., 0.]])\n"
          ]
        }
      ],
      "source": [
        "x = torch.empty(3, 4)\n",
        "print(type(x))\n",
        "print(x)\n",
        "#The torch.empty() call allocates memory for the tensor, but does not initialize it with any values."
      ]
    },
    {
      "cell_type": "code",
      "execution_count": 4,
      "metadata": {
        "colab": {
          "base_uri": "https://localhost:8080/"
        },
        "id": "-KQFqb2O-PK3",
        "outputId": "f9034a60-c7f3-43d9-932b-1c5792632f80"
      },
      "outputs": [
        {
          "name": "stdout",
          "output_type": "stream",
          "text": [
            "tensor([[0., 0., 0.],\n",
            "        [0., 0., 0.]])\n",
            "tensor([[1., 1., 1.],\n",
            "        [1., 1., 1.]])\n",
            "tensor([[0.3126, 0.3791, 0.3087],\n",
            "        [0.0736, 0.4216, 0.0691]])\n"
          ]
        }
      ],
      "source": [
        "#More often than not, you’ll want to initialize your tensor with some value.\n",
        "#Common cases are all zeros, all ones, or random values,\n",
        "zeros = torch.zeros(2, 3)\n",
        "print(zeros)\n",
        "\n",
        "ones = torch.ones(2, 3)\n",
        "print(ones)\n",
        "\n",
        "torch.manual_seed(1729)\n",
        "random = torch.rand(2, 3)\n",
        "print(random)"
      ]
    },
    {
      "cell_type": "code",
      "execution_count": 5,
      "metadata": {
        "colab": {
          "base_uri": "https://localhost:8080/"
        },
        "id": "4DMRFLmWBKMk",
        "outputId": "9e833004-4581-452a-fae8-dcbd24a82300"
      },
      "outputs": [
        {
          "name": "stdout",
          "output_type": "stream",
          "text": [
            "torch.Size([2, 2, 3])\n",
            "tensor([[[0., 0., 0.],\n",
            "         [0., 0., 0.]],\n",
            "\n",
            "        [[0., 0., 0.],\n",
            "         [0., 0., 0.]]])\n",
            "torch.Size([2, 2, 3])\n",
            "tensor([[[0., 0., 0.],\n",
            "         [0., 0., 0.]],\n",
            "\n",
            "        [[0., 0., 0.],\n",
            "         [0., 0., 0.]]])\n",
            "torch.Size([2, 2, 3])\n",
            "tensor([[[0., 0., 0.],\n",
            "         [0., 0., 0.]],\n",
            "\n",
            "        [[0., 0., 0.],\n",
            "         [0., 0., 0.]]])\n",
            "torch.Size([2, 2, 3])\n",
            "tensor([[[1., 1., 1.],\n",
            "         [1., 1., 1.]],\n",
            "\n",
            "        [[1., 1., 1.],\n",
            "         [1., 1., 1.]]])\n",
            "torch.Size([2, 2, 3])\n",
            "tensor([[[0.2332, 0.4047, 0.2162],\n",
            "         [0.9927, 0.4128, 0.5938]],\n",
            "\n",
            "        [[0.6128, 0.1519, 0.0453],\n",
            "         [0.5035, 0.9978, 0.3884]]])\n"
          ]
        }
      ],
      "source": [
        "#We call the .empty_like(), .zeros_like(), .ones_like(), and .rand_like() methods.\n",
        "#Using the .shape property, we can verify that each of these methods returns a tensor of identical dimensionality and extent.\n",
        "x = torch.empty(2, 2, 3)\n",
        "print(x.shape)\n",
        "print(x)\n",
        "\n",
        "empty_like_x = torch.empty_like(x)\n",
        "print(empty_like_x.shape)\n",
        "print(empty_like_x)\n",
        "\n",
        "zeros_like_x = torch.zeros_like(x)\n",
        "print(zeros_like_x.shape)\n",
        "print(zeros_like_x)\n",
        "\n",
        "ones_like_x = torch.ones_like(x)\n",
        "print(ones_like_x.shape)\n",
        "print(ones_like_x)\n",
        "\n",
        "rand_like_x = torch.rand_like(x)\n",
        "print(rand_like_x.shape)\n",
        "print(rand_like_x)"
      ]
    },
    {
      "cell_type": "markdown",
      "metadata": {
        "id": "g_fDZsd9DXfs"
      },
      "source": [
        "**Tensor Data Types**:\n",
        "Available data types include:\n",
        "\n",
        "torch.bool\n",
        "\n",
        "torch.int8\n",
        "\n",
        "torch.uint8\n",
        "\n",
        "torch.int16\n",
        "\n",
        "torch.int32\n",
        "\n",
        "torch.int64\n",
        "\n",
        "torch.half\n",
        "\n",
        "torch.float\n",
        "\n",
        "torch.double\n",
        "\n",
        "torch.bfloat\n",
        "Setting the datatype of a tensor is possible a couple of ways:"
      ]
    },
    {
      "cell_type": "code",
      "execution_count": 6,
      "metadata": {
        "colab": {
          "base_uri": "https://localhost:8080/"
        },
        "id": "awCl86cjDOho",
        "outputId": "e76c2a96-a7d8-4f64-cedb-8a328ccba02a"
      },
      "outputs": [
        {
          "name": "stdout",
          "output_type": "stream",
          "text": [
            "tensor([[1, 1, 1],\n",
            "        [1, 1, 1]], dtype=torch.int16)\n",
            "tensor([[10.8626,  2.1505, 19.6913],\n",
            "        [ 0.9956,  1.4148,  5.8364]], dtype=torch.float64)\n",
            "tensor([[10,  2, 19],\n",
            "        [ 0,  1,  5]], dtype=torch.int32)\n"
          ]
        }
      ],
      "source": [
        "#1. The simplest way to set the underlying data type of a tensor is with an optional argument at creation time.\n",
        "a = torch.ones((2, 3), dtype=torch.int16)\n",
        "print(a)\n",
        "\n",
        "b = torch.rand((2, 3), dtype=torch.float64) * 20.\n",
        "print(b)\n",
        "# 2. The other way to set the datatype is with the .to() method.\n",
        "c = b.to(torch.int32)\n",
        "print(c)"
      ]
    },
    {
      "cell_type": "markdown",
      "metadata": {
        "id": "RcstcDENEVRR"
      },
      "source": [
        "**Math & Logic with PyTorch Tensors**"
      ]
    },
    {
      "cell_type": "code",
      "execution_count": 7,
      "metadata": {
        "colab": {
          "base_uri": "https://localhost:8080/"
        },
        "id": "FiSEWaz_DdZj",
        "outputId": "6a9374ac-27c9-4b76-f454-6d9e2a29d8f7"
      },
      "outputs": [
        {
          "name": "stdout",
          "output_type": "stream",
          "text": [
            "tensor([[1., 1.],\n",
            "        [1., 1.]])\n",
            "tensor([[2., 2.],\n",
            "        [2., 2.]])\n",
            "tensor([[3., 3.],\n",
            "        [3., 3.]])\n",
            "tensor([[4., 4.],\n",
            "        [4., 4.]])\n",
            "tensor([[1.4142, 1.4142],\n",
            "        [1.4142, 1.4142]])\n"
          ]
        }
      ],
      "source": [
        "#1. Airthmetic with scalars\n",
        "ones = torch.zeros(2, 2) + 1\n",
        "twos = torch.ones(2, 2) * 2\n",
        "threes = (torch.ones(2, 2) * 7 - 1) / 2\n",
        "fours = twos ** 2\n",
        "sqrt2s = twos ** 0.5\n",
        "\n",
        "print(ones)\n",
        "print(twos)\n",
        "print(threes)\n",
        "print(fours)\n",
        "print(sqrt2s)"
      ]
    },
    {
      "cell_type": "code",
      "execution_count": 8,
      "metadata": {
        "colab": {
          "base_uri": "https://localhost:8080/"
        },
        "id": "Fwwk_GnNEg8C",
        "outputId": "7d3e0b8f-9f52-491d-9d45-553b32070501"
      },
      "outputs": [
        {
          "name": "stdout",
          "output_type": "stream",
          "text": [
            "tensor([[ 2.,  4.],\n",
            "        [ 8., 16.]])\n",
            "tensor([[5., 5.],\n",
            "        [5., 5.]])\n",
            "tensor([[12., 12.],\n",
            "        [12., 12.]])\n"
          ]
        }
      ],
      "source": [
        "#2. Similar operations between two tensors\n",
        "powers2 = twos ** torch.tensor([[1, 2], [3, 4]])\n",
        "print(powers2)\n",
        "\n",
        "fives = ones + fours\n",
        "print(fives)\n",
        "\n",
        "dozens = threes * fours\n",
        "print(dozens)"
      ]
    },
    {
      "cell_type": "code",
      "execution_count": 9,
      "metadata": {
        "colab": {
          "base_uri": "https://localhost:8080/"
        },
        "id": "sM2kiF6MFC53",
        "outputId": "108297c7-21bf-4357-ce85-b17ed2764a5e"
      },
      "outputs": [
        {
          "name": "stdout",
          "output_type": "stream",
          "text": [
            "tensor([[0.0703, 0.5105, 0.9451, 0.2359],\n",
            "        [0.1979, 0.3327, 0.6146, 0.5999]])\n",
            "tensor([[0.1405, 1.0210, 1.8901, 0.4717],\n",
            "        [0.3959, 0.6655, 1.2291, 1.1998]])\n"
          ]
        }
      ],
      "source": [
        "#3. Tensor Broadcasting\n",
        "# Same rule as broadcasting\n",
        "rand = torch.rand(2, 4)\n",
        "doubled = rand * (torch.ones(1, 4) * 2)\n",
        "\n",
        "print(rand)\n",
        "print(doubled)\n"
      ]
    },
    {
      "cell_type": "markdown",
      "metadata": {
        "id": "kkR5eJbRGG4Z"
      },
      "source": [
        "The rules for broadcasting are:\n",
        "\n",
        "Each tensor must have at least one dimension - no empty tensors.\n",
        "\n",
        "Comparing the dimension sizes of the two tensors, going from last to first:\n",
        "\n",
        "Each dimension must be equal, or\n",
        "\n",
        "One of the dimensions must be of size 1, or\n",
        "\n",
        "The dimension does not exist in one of the tensors"
      ]
    },
    {
      "cell_type": "code",
      "execution_count": 10,
      "metadata": {
        "colab": {
          "base_uri": "https://localhost:8080/"
        },
        "id": "2KfJqBcFF9GT",
        "outputId": "488aecab-0e3a-4bcf-aa64-be4b9650c93b"
      },
      "outputs": [
        {
          "name": "stdout",
          "output_type": "stream",
          "text": [
            "tensor([[[0.5013, 0.9397],\n",
            "         [0.8656, 0.5207],\n",
            "         [0.6865, 0.3614]],\n",
            "\n",
            "        [[0.5013, 0.9397],\n",
            "         [0.8656, 0.5207],\n",
            "         [0.6865, 0.3614]],\n",
            "\n",
            "        [[0.5013, 0.9397],\n",
            "         [0.8656, 0.5207],\n",
            "         [0.6865, 0.3614]],\n",
            "\n",
            "        [[0.5013, 0.9397],\n",
            "         [0.8656, 0.5207],\n",
            "         [0.6865, 0.3614]]])\n",
            "tensor([[[0.6493, 0.6493],\n",
            "         [0.2633, 0.2633],\n",
            "         [0.4762, 0.4762]],\n",
            "\n",
            "        [[0.6493, 0.6493],\n",
            "         [0.2633, 0.2633],\n",
            "         [0.4762, 0.4762]],\n",
            "\n",
            "        [[0.6493, 0.6493],\n",
            "         [0.2633, 0.2633],\n",
            "         [0.4762, 0.4762]],\n",
            "\n",
            "        [[0.6493, 0.6493],\n",
            "         [0.2633, 0.2633],\n",
            "         [0.4762, 0.4762]]])\n",
            "tensor([[[0.0548, 0.2024],\n",
            "         [0.0548, 0.2024],\n",
            "         [0.0548, 0.2024]],\n",
            "\n",
            "        [[0.0548, 0.2024],\n",
            "         [0.0548, 0.2024],\n",
            "         [0.0548, 0.2024]],\n",
            "\n",
            "        [[0.0548, 0.2024],\n",
            "         [0.0548, 0.2024],\n",
            "         [0.0548, 0.2024]],\n",
            "\n",
            "        [[0.0548, 0.2024],\n",
            "         [0.0548, 0.2024],\n",
            "         [0.0548, 0.2024]]])\n"
          ]
        }
      ],
      "source": [
        "a =     torch.ones(4, 3, 2)\n",
        "\n",
        "b = a * torch.rand(   3, 2) # 3rd & 2nd dims identical to a, dim 1 absent\n",
        "print(b)\n",
        "\n",
        "c = a * torch.rand(   3, 1) # 3rd dim = 1, 2nd dim identical to a\n",
        "print(c)\n",
        "\n",
        "d = a * torch.rand(   1, 2) # 3rd dim identical to a, 2nd dim = 1\n",
        "print(d)"
      ]
    },
    {
      "cell_type": "code",
      "execution_count": 25,
      "metadata": {
        "colab": {
          "base_uri": "https://localhost:8080/",
          "height": 251
        },
        "id": "S6Az4BVGGJ7r",
        "outputId": "c9d21717-c1c7-47a3-fefd-1c6bc6009aca"
      },
      "outputs": [
        {
          "ename": "RuntimeError",
          "evalue": "The size of tensor a (2) must match the size of tensor b (3) at non-singleton dimension 2",
          "output_type": "error",
          "traceback": [
            "\u001b[0;31m---------------------------------------------------------------------------\u001b[0m",
            "\u001b[0;31mRuntimeError\u001b[0m                              Traceback (most recent call last)",
            "Cell \u001b[0;32mIn[25], line 3\u001b[0m\n\u001b[1;32m      1\u001b[0m a \u001b[38;5;241m=\u001b[39m torch\u001b[38;5;241m.\u001b[39mones(\u001b[38;5;241m4\u001b[39m, \u001b[38;5;241m3\u001b[39m, \u001b[38;5;241m2\u001b[39m)\n\u001b[0;32m----> 3\u001b[0m b \u001b[38;5;241m=\u001b[39m \u001b[43ma\u001b[49m\u001b[43m \u001b[49m\u001b[38;5;241;43m*\u001b[39;49m\u001b[43m \u001b[49m\u001b[43mtorch\u001b[49m\u001b[38;5;241;43m.\u001b[39;49m\u001b[43mrand\u001b[49m\u001b[43m(\u001b[49m\u001b[43m    \u001b[49m\u001b[38;5;241;43m4\u001b[39;49m\u001b[43m,\u001b[49m\u001b[43m \u001b[49m\u001b[38;5;241;43m3\u001b[39;49m\u001b[43m)\u001b[49m    \u001b[38;5;66;03m# dimensions must match last-to-first\u001b[39;00m\n\u001b[1;32m      5\u001b[0m c \u001b[38;5;241m=\u001b[39m a \u001b[38;5;241m*\u001b[39m torch\u001b[38;5;241m.\u001b[39mrand(   \u001b[38;5;241m2\u001b[39m, \u001b[38;5;241m3\u001b[39m) \u001b[38;5;66;03m# both 3rd & 2nd dims different\u001b[39;00m\n\u001b[1;32m      7\u001b[0m d \u001b[38;5;241m=\u001b[39m a \u001b[38;5;241m*\u001b[39m torch\u001b[38;5;241m.\u001b[39mrand((\u001b[38;5;241m0\u001b[39m, ))   \u001b[38;5;66;03m# can't broadcast with an empty tensor\u001b[39;00m\n",
            "\u001b[0;31mRuntimeError\u001b[0m: The size of tensor a (2) must match the size of tensor b (3) at non-singleton dimension 2"
          ]
        }
      ],
      "source": [
        "a = torch.ones(4, 3, 2)\n",
        "\n",
        "b = a * torch.rand(    4, 3)    # dimensions must match last-to-first\n",
        "\n",
        "c = a * torch.rand(   2, 3) # both 3rd & 2nd dims different\n",
        "\n",
        "d = a * torch.rand((0, ))   # can't broadcast with an empty tensor"
      ]
    },
    {
      "cell_type": "markdown",
      "metadata": {
        "id": "KxfL4pYfGo5E"
      },
      "source": [
        "**More Mathematical Functions**"
      ]
    },
    {
      "cell_type": "code",
      "execution_count": 13,
      "metadata": {
        "colab": {
          "base_uri": "https://localhost:8080/"
        },
        "id": "8c5EjOkzGPB6",
        "outputId": "e11830f8-a9a7-4c5b-92de-3fd8c12afe5f"
      },
      "outputs": [
        {
          "name": "stdout",
          "output_type": "stream",
          "text": [
            "Common functions:\n",
            "tensor([[0.9955, 0.0110, 0.2285, 0.9767],\n",
            "        [0.0476, 0.4484, 0.8447, 0.1992]])\n",
            "tensor([[-0., -0., -0., 1.],\n",
            "        [-0., 1., -0., -0.]])\n",
            "tensor([[-1., -1., -1.,  0.],\n",
            "        [-1.,  0., -1., -1.]])\n",
            "tensor([[-0.5000, -0.0110, -0.2285,  0.5000],\n",
            "        [-0.0476,  0.4484, -0.5000, -0.1992]])\n"
          ]
        }
      ],
      "source": [
        "# common functions\n",
        "a = torch.rand(2, 4) * 2 - 1\n",
        "print('Common functions:')\n",
        "print(torch.abs(a))\n",
        "print(torch.ceil(a))\n",
        "print(torch.floor(a))\n",
        "print(torch.clamp(a, -0.5, 0.5))"
      ]
    },
    {
      "cell_type": "code",
      "execution_count": 14,
      "metadata": {
        "colab": {
          "base_uri": "https://localhost:8080/"
        },
        "id": "KzSH4zo6I1qD",
        "outputId": "f68838b0-2031-4b75-fcb3-432977f2fb8a"
      },
      "outputs": [
        {
          "name": "stdout",
          "output_type": "stream",
          "text": [
            "\n",
            "Sine and arcsine:\n",
            "tensor([0.0000, 0.7854, 1.5708, 2.3562])\n",
            "tensor([0.0000, 0.7071, 1.0000, 0.7071])\n",
            "tensor([0.0000, 0.7854, 1.5708, 0.7854])\n"
          ]
        }
      ],
      "source": [
        "# trigonometric functions and their inverses\n",
        "angles = torch.tensor([0, math.pi / 4, math.pi / 2, 3 * math.pi / 4])\n",
        "sines = torch.sin(angles)\n",
        "inverses = torch.asin(sines)\n",
        "print('\\nSine and arcsine:')\n",
        "print(angles)\n",
        "print(sines)\n",
        "print(inverses)"
      ]
    },
    {
      "cell_type": "code",
      "execution_count": 15,
      "metadata": {
        "colab": {
          "base_uri": "https://localhost:8080/"
        },
        "id": "mcfym8a_I83e",
        "outputId": "2bf73cff-6885-4d8f-f350-45987c6a3551"
      },
      "outputs": [
        {
          "name": "stdout",
          "output_type": "stream",
          "text": [
            "\n",
            "Bitwise XOR:\n",
            "tensor([3, 2, 1])\n",
            "\n",
            "Broadcasted, element-wise equality comparison:\n",
            "tensor([[ True, False],\n",
            "        [False, False]])\n"
          ]
        }
      ],
      "source": [
        "# bitwise operations\n",
        "print('\\nBitwise XOR:')\n",
        "b = torch.tensor([1, 5, 11])\n",
        "c = torch.tensor([2, 7, 10])\n",
        "print(torch.bitwise_xor(b, c))\n",
        "\n",
        "# comparisons:\n",
        "print('\\nBroadcasted, element-wise equality comparison:')\n",
        "d = torch.tensor([[1., 2.], [3., 4.]])\n",
        "e = torch.ones(1, 2)  # many comparison ops support broadcasting!\n",
        "print(torch.eq(d, e)) # returns a tensor of type bool\n"
      ]
    },
    {
      "cell_type": "code",
      "execution_count": 16,
      "metadata": {
        "colab": {
          "base_uri": "https://localhost:8080/"
        },
        "id": "tliyID3PJH3E",
        "outputId": "34a3966e-f1d7-4ac9-fdd9-d0b77b21957e"
      },
      "outputs": [
        {
          "name": "stdout",
          "output_type": "stream",
          "text": [
            "\n",
            "Reduction ops:\n",
            "tensor(4.)\n",
            "4.0\n",
            "tensor(2.5000)\n",
            "tensor(1.2910)\n",
            "tensor(24.)\n",
            "tensor([1, 2])\n"
          ]
        }
      ],
      "source": [
        "# reductions:\n",
        "print('\\nReduction ops:')\n",
        "print(torch.max(d))        # returns a single-element tensor\n",
        "print(torch.max(d).item()) # extracts the value from the returned tensor\n",
        "print(torch.mean(d))       # average\n",
        "print(torch.std(d))        # standard deviation\n",
        "print(torch.prod(d))       # product of all numbers\n",
        "print(torch.unique(torch.tensor([1, 2, 1, 2, 1, 2]))) # filter unique elements"
      ]
    },
    {
      "cell_type": "code",
      "execution_count": 17,
      "metadata": {
        "colab": {
          "base_uri": "https://localhost:8080/"
        },
        "id": "S5d8b09yJMum",
        "outputId": "ff1c18dd-11b1-4517-96ef-e012bcd386a0"
      },
      "outputs": [
        {
          "name": "stdout",
          "output_type": "stream",
          "text": [
            "\n",
            "Vectors & Matrices:\n",
            "tensor([ 0.,  0., -1.])\n",
            "tensor([[0.9877, 0.0352],\n",
            "        [0.0905, 0.4485]])\n",
            "tensor([[2.9632, 0.1057],\n",
            "        [0.2715, 1.3456]])\n",
            "torch.return_types.svd(\n",
            "U=tensor([[-0.9911, -0.1334],\n",
            "        [-0.1334,  0.9911]]),\n",
            "S=tensor([2.9865, 1.3255]),\n",
            "V=tensor([[-0.9955, -0.0952],\n",
            "        [-0.0952,  0.9955]]))\n"
          ]
        }
      ],
      "source": [
        "# vector and linear algebra operations\n",
        "v1 = torch.tensor([1., 0., 0.])         # x unit vector\n",
        "v2 = torch.tensor([0., 1., 0.])         # y unit vector\n",
        "m1 = torch.rand(2, 2)                   # random matrix\n",
        "m2 = torch.tensor([[3., 0.], [0., 3.]]) # three times identity matrix\n",
        "\n",
        "print('\\nVectors & Matrices:')\n",
        "print(torch.cross(v2, v1)) # negative of z unit vector (v1 x v2 == -v2 x v1)\n",
        "print(m1)\n",
        "m3 = torch.matmul(m1, m2)\n",
        "print(m3)                  # 3 times m1\n",
        "print(torch.svd(m3))       # singular value decomposition"
      ]
    },
    {
      "cell_type": "markdown",
      "metadata": {
        "id": "qjeqK4m6JofU"
      },
      "source": [
        "**Altering Tensors in Place**:Most binary operations on tensors will return a third, new tensor. When we say c = a * b (where a and b are tensors), the new tensor c will occupy a region of memory distinct from the other tensors.\n",
        "\n",
        "There are times, though, that you may wish to alter a tensor in place - for example, if you’re doing an element-wise computation where you can discard intermediate values. For this, most of the math functions have a version with an appended underscore (_) that will alter a tensor in place."
      ]
    },
    {
      "cell_type": "code",
      "execution_count": 18,
      "metadata": {
        "colab": {
          "base_uri": "https://localhost:8080/"
        },
        "id": "15XB9UuDJRMh",
        "outputId": "712a2dd0-b17c-416f-ff2f-ea27213b4d23"
      },
      "outputs": [
        {
          "name": "stdout",
          "output_type": "stream",
          "text": [
            "a:\n",
            "tensor([0.0000, 0.7854, 1.5708, 2.3562])\n",
            "tensor([0.0000, 0.7071, 1.0000, 0.7071])\n",
            "tensor([0.0000, 0.7854, 1.5708, 2.3562])\n",
            "\n",
            "b:\n",
            "tensor([0.0000, 0.7854, 1.5708, 2.3562])\n",
            "tensor([0.0000, 0.7071, 1.0000, 0.7071])\n",
            "tensor([0.0000, 0.7071, 1.0000, 0.7071])\n"
          ]
        }
      ],
      "source": [
        "a = torch.tensor([0, math.pi / 4, math.pi / 2, 3 * math.pi / 4])\n",
        "print('a:')\n",
        "print(a)\n",
        "print(torch.sin(a))   # this operation creates a new tensor in memory\n",
        "print(a)              # a has not changed\n",
        "\n",
        "b = torch.tensor([0, math.pi / 4, math.pi / 2, 3 * math.pi / 4])\n",
        "print('\\nb:')\n",
        "print(b)\n",
        "print(torch.sin_(b))  # note the underscore\n",
        "print(b)              # b has changed"
      ]
    },
    {
      "cell_type": "code",
      "execution_count": 19,
      "metadata": {
        "colab": {
          "base_uri": "https://localhost:8080/"
        },
        "id": "VM1eqY7iJ2Sq",
        "outputId": "6be36119-eb80-468a-b112-e57c47c65bf2"
      },
      "outputs": [
        {
          "name": "stdout",
          "output_type": "stream",
          "text": [
            "Before:\n",
            "tensor([[1., 1.],\n",
            "        [1., 1.]])\n",
            "tensor([[0.8740, 0.2526],\n",
            "        [0.6923, 0.7545]])\n",
            "\n",
            "After adding:\n",
            "tensor([[1.8740, 1.2526],\n",
            "        [1.6923, 1.7545]])\n",
            "tensor([[1.8740, 1.2526],\n",
            "        [1.6923, 1.7545]])\n",
            "tensor([[0.8740, 0.2526],\n",
            "        [0.6923, 0.7545]])\n",
            "\n",
            "After multiplying\n",
            "tensor([[0.7638, 0.0638],\n",
            "        [0.4793, 0.5693]])\n",
            "tensor([[0.7638, 0.0638],\n",
            "        [0.4793, 0.5693]])\n"
          ]
        }
      ],
      "source": [
        "#For arithmetic operations, there are functions that behave similarly:\n",
        "a = torch.ones(2, 2)\n",
        "b = torch.rand(2, 2)\n",
        "\n",
        "print('Before:')\n",
        "print(a)\n",
        "print(b)\n",
        "print('\\nAfter adding:')\n",
        "print(a.add_(b))\n",
        "print(a)\n",
        "print(b)\n",
        "print('\\nAfter multiplying')\n",
        "print(b.mul_(b))\n",
        "print(b)"
      ]
    },
    {
      "cell_type": "markdown",
      "metadata": {
        "id": "pH0hgxAVLAn7"
      },
      "source": [
        "\n",
        "**Moving to GPU**:One of the major advantages of PyTorch is its robust acceleration on CUDA-compatible Nvidia GPUs. (“CUDA” stands for Compute Unified Device Architecture, which is Nvidia’s platform for parallel computing.) So far, everything we’ve done has been on CPU. How do we move to the faster hardware?\n",
        "\n"
      ]
    },
    {
      "cell_type": "code",
      "execution_count": 20,
      "metadata": {
        "colab": {
          "base_uri": "https://localhost:8080/"
        },
        "id": "s_VNQA8-KCh2",
        "outputId": "01a7c872-7eac-4d56-ba4b-fe4b74787456"
      },
      "outputs": [
        {
          "name": "stdout",
          "output_type": "stream",
          "text": [
            "Sorry, CPU only.\n"
          ]
        }
      ],
      "source": [
        "#First, we should check whether a GPU is available, with the is_available() method.\n",
        "if torch.cuda.is_available():\n",
        "    print('We have a GPU!')\n",
        "else:\n",
        "    print('Sorry, CPU only.')"
      ]
    },
    {
      "cell_type": "markdown",
      "metadata": {
        "id": "kbegbCSSLnsS"
      },
      "source": [
        "Once we’ve determined that one or more GPUs is available, we need to put our data someplace where the GPU can see it. Your CPU does computation on data in your computer’s RAM. Your GPU has dedicated memory attached to it. Whenever you want to perform a computation on a device, you must move all the data needed for that computation to memory accessible by that device. (Colloquially, “moving the data to memory accessible by the GPU” is shorted to, “moving the data to the GPU”.)"
      ]
    },
    {
      "cell_type": "code",
      "execution_count": 21,
      "metadata": {
        "colab": {
          "base_uri": "https://localhost:8080/"
        },
        "id": "v0a-x61fKbIs",
        "outputId": "0310d02b-c54d-46e2-af52-0c58d3b49d18"
      },
      "outputs": [
        {
          "name": "stdout",
          "output_type": "stream",
          "text": [
            "Sorry, CPU only.\n"
          ]
        }
      ],
      "source": [
        "#There are multiple ways to get your data onto your target device. You may do it at creation time:\n",
        "if torch.cuda.is_available():\n",
        "    gpu_rand = torch.rand(2, 2, device='cuda')\n",
        "    print(gpu_rand)\n",
        "else:\n",
        "    print('Sorry, CPU only.')\n",
        "#You can query the number of GPUs with torch.cuda.device_count().\n",
        "#If you have more than one GPU, you can specify them by index: device='cuda:0', device='cuda:1', etc."
      ]
    },
    {
      "cell_type": "markdown",
      "metadata": {
        "id": "hr9ykvbwMLCQ"
      },
      "source": [
        "As a coding practice, specifying our devices everywhere with string constants is pretty fragile. In an ideal world, your code would perform robustly whether you’re on CPU or GPU hardware. You can do this by creating a device handle that can be passed to your tensors instead of a string:"
      ]
    },
    {
      "cell_type": "code",
      "execution_count": 22,
      "metadata": {
        "colab": {
          "base_uri": "https://localhost:8080/"
        },
        "id": "x6mJ1XcwL1_3",
        "outputId": "0dfc741d-613c-4840-e9e3-b11c7f83597e"
      },
      "outputs": [
        {
          "name": "stdout",
          "output_type": "stream",
          "text": [
            "Device: cpu\n",
            "tensor([[0.7746, 0.2330],\n",
            "        [0.8441, 0.9004]])\n"
          ]
        }
      ],
      "source": [
        "if torch.cuda.is_available():\n",
        "    my_device = torch.device('cuda')\n",
        "else:\n",
        "    my_device = torch.device('cpu')\n",
        "print('Device: {}'.format(my_device))\n",
        "\n",
        "x = torch.rand(2, 2, device=my_device)\n",
        "print(x)"
      ]
    },
    {
      "cell_type": "code",
      "execution_count": 23,
      "metadata": {
        "id": "AsdKcxgkMRf6"
      },
      "outputs": [],
      "source": [
        "#If you have an existing tensor living on one device, you can move it to another with the to() method.\n",
        "y = torch.rand(2, 2)\n",
        "y = y.to(my_device)"
      ]
    },
    {
      "cell_type": "code",
      "execution_count": 24,
      "metadata": {
        "colab": {
          "base_uri": "https://localhost:8080/",
          "height": 251
        },
        "id": "6DhKzU6nPI_9",
        "outputId": "c791cf6c-307a-4daa-8406-7cf4a4dbc3f7"
      },
      "outputs": [
        {
          "ename": "RuntimeError",
          "evalue": "Expected one of cpu, cuda, ipu, xpu, mkldnn, opengl, opencl, ideep, hip, ve, fpga, ort, xla, lazy, vulkan, mps, meta, hpu, mtia, privateuseone device type at start of device string: gpu",
          "output_type": "error",
          "traceback": [
            "\u001b[0;31m---------------------------------------------------------------------------\u001b[0m",
            "\u001b[0;31mRuntimeError\u001b[0m                              Traceback (most recent call last)",
            "Cell \u001b[0;32mIn[24], line 4\u001b[0m\n\u001b[1;32m      1\u001b[0m \u001b[38;5;66;03m#It is important to know that in order\u001b[39;00m\n\u001b[1;32m      2\u001b[0m \u001b[38;5;66;03m#to do computation involving two or more tensors, all of the tensors must be on the same device.\u001b[39;00m\n\u001b[1;32m      3\u001b[0m x \u001b[38;5;241m=\u001b[39m torch\u001b[38;5;241m.\u001b[39mrand(\u001b[38;5;241m2\u001b[39m, \u001b[38;5;241m2\u001b[39m)\n\u001b[0;32m----> 4\u001b[0m y \u001b[38;5;241m=\u001b[39m \u001b[43mtorch\u001b[49m\u001b[38;5;241;43m.\u001b[39;49m\u001b[43mrand\u001b[49m\u001b[43m(\u001b[49m\u001b[38;5;241;43m2\u001b[39;49m\u001b[43m,\u001b[49m\u001b[43m \u001b[49m\u001b[38;5;241;43m2\u001b[39;49m\u001b[43m,\u001b[49m\u001b[43m \u001b[49m\u001b[43mdevice\u001b[49m\u001b[38;5;241;43m=\u001b[39;49m\u001b[38;5;124;43m'\u001b[39;49m\u001b[38;5;124;43mgpu\u001b[39;49m\u001b[38;5;124;43m'\u001b[39;49m\u001b[43m)\u001b[49m\n\u001b[1;32m      5\u001b[0m z \u001b[38;5;241m=\u001b[39m x \u001b[38;5;241m+\u001b[39m y  \u001b[38;5;66;03m# exception will be thrown\u001b[39;00m\n",
            "\u001b[0;31mRuntimeError\u001b[0m: Expected one of cpu, cuda, ipu, xpu, mkldnn, opengl, opencl, ideep, hip, ve, fpga, ort, xla, lazy, vulkan, mps, meta, hpu, mtia, privateuseone device type at start of device string: gpu"
          ]
        }
      ],
      "source": [
        "#It is important to know that in order\n",
        "#to do computation involving two or more tensors, all of the tensors must be on the same device.\n",
        "x = torch.rand(2, 2)\n",
        "y = torch.rand(2, 2, device='gpu')\n",
        "z = x + y  # exception will be thrown"
      ]
    },
    {
      "cell_type": "code",
      "execution_count": null,
      "metadata": {},
      "outputs": [],
      "source": []
    },
    {
      "cell_type": "code",
      "execution_count": null,
      "metadata": {},
      "outputs": [],
      "source": []
    }
  ],
  "metadata": {
    "colab": {
      "provenance": []
    },
    "kernelspec": {
      "display_name": "Python 3",
      "name": "python3"
    },
    "language_info": {
      "codemirror_mode": {
        "name": "ipython",
        "version": 3
      },
      "file_extension": ".py",
      "mimetype": "text/x-python",
      "name": "python",
      "nbconvert_exporter": "python",
      "pygments_lexer": "ipython3",
      "version": "3.11.5"
    }
  },
  "nbformat": 4,
  "nbformat_minor": 0
}
