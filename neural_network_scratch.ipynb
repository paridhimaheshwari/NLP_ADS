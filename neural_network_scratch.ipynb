{
 "cells": [
  {
   "cell_type": "markdown",
   "metadata": {},
   "source": [
    "## Implementing Neural Networks from Scratch"
   ]
  },
  {
   "cell_type": "code",
   "execution_count": 2,
   "metadata": {},
   "outputs": [],
   "source": [
    "import numpy as np\n",
    "import pandas as pd\n",
    "\n",
    "# this library can make datasets for you\n",
    "from sklearn.datasets import make_classification\n",
    "X,Y = make_classification(n_samples = 1000, n_features=5,random_state=42)"
   ]
  },
  {
   "cell_type": "code",
   "execution_count": 3,
   "metadata": {},
   "outputs": [],
   "source": [
    "X = X.T"
   ]
  },
  {
   "cell_type": "code",
   "execution_count": 4,
   "metadata": {},
   "outputs": [
    {
     "data": {
      "text/plain": [
       "(1000,)"
      ]
     },
     "execution_count": 4,
     "metadata": {},
     "output_type": "execute_result"
    }
   ],
   "source": [
    "Y.shape"
   ]
  },
  {
   "cell_type": "code",
   "execution_count": 5,
   "metadata": {},
   "outputs": [],
   "source": [
    "Y = np.array(Y).reshape(1,-1)"
   ]
  },
  {
   "cell_type": "code",
   "execution_count": 7,
   "metadata": {},
   "outputs": [
    {
     "data": {
      "text/plain": [
       "(1, 1000)"
      ]
     },
     "execution_count": 7,
     "metadata": {},
     "output_type": "execute_result"
    }
   ],
   "source": [
    "Y.shape"
   ]
  },
  {
   "cell_type": "code",
   "execution_count": 36,
   "metadata": {},
   "outputs": [],
   "source": [
    "nn_arch = [\n",
    "    {'layer_units':5, 'activation':'none'}, #for the input layer\n",
    "    {'layer_units':5, 'activation':'relu'}, #inner layer: Relu is preferred\n",
    "    {'layer_units':4, 'activation':'relu'}, #\n",
    "    {'layer_units':3, 'activation':'relu'}, #\n",
    "    {'layer_units':1, 'activation':'sigmoid'} #\n",
    "]"
   ]
  },
  {
   "cell_type": "code",
   "execution_count": 52,
   "metadata": {},
   "outputs": [],
   "source": [
    "# number of layers will be equal to the number of weights and bias\n",
    "def initialised_parameters(nn_arch,seed_value):\n",
    "    #  seed_value=any non-zero number, for the same initialisation\n",
    "    np.random.seed(seed_value)\n",
    "    number_of_layers = len(nn_arch)\n",
    "    parameters = {}     #to store weights and bias of each layer\n",
    "    for l in range(1, number_of_layers):\n",
    "        parameters['W'+str(l)] = np.random.randn(\n",
    "            nn_arch[l]['layer_units'],\n",
    "            nn_arch[l-1]['layer_units'],\n",
    "        )*0.001\n",
    "        parameters['b'+str(l)] = np.zeros((nn_arch[l]['layer_units'],1))\n",
    "    return parameters\n"
   ]
  },
  {
   "cell_type": "code",
   "execution_count": 53,
   "metadata": {},
   "outputs": [
    {
     "name": "stdout",
     "output_type": "stream",
     "text": [
      "{'W1': array([[ 1.78862847e-03,  4.36509851e-04,  9.64974681e-05,\n",
      "        -1.86349270e-03, -2.77388203e-04],\n",
      "       [-3.54758979e-04, -8.27414815e-05, -6.27000677e-04,\n",
      "        -4.38181690e-05, -4.77218030e-04],\n",
      "       [-1.31386475e-03,  8.84622380e-04,  8.81318042e-04,\n",
      "         1.70957306e-03,  5.00336422e-05],\n",
      "       [-4.04677415e-04, -5.45359948e-04, -1.54647732e-03,\n",
      "         9.82367434e-04, -1.10106763e-03],\n",
      "       [-1.18504653e-03, -2.05649899e-04,  1.48614836e-03,\n",
      "         2.36716267e-04, -1.02378514e-03]]), 'b1': array([[0.],\n",
      "       [0.],\n",
      "       [0.],\n",
      "       [0.],\n",
      "       [0.]]), 'W2': array([[-0.00071299,  0.00062524, -0.00016051, -0.00076884, -0.00023003],\n",
      "       [ 0.00074506,  0.00197611, -0.00124412, -0.00062642, -0.00080377],\n",
      "       [-0.00241908, -0.00092379, -0.00102388,  0.00112398, -0.00013191],\n",
      "       [-0.00162329,  0.00064668, -0.00035627, -0.00174314, -0.00059665]]), 'b2': array([[0.],\n",
      "       [0.],\n",
      "       [0.],\n",
      "       [0.]]), 'W3': array([[-5.88594380e-04, -8.73882298e-04,  2.97138154e-05,\n",
      "        -2.24825777e-03],\n",
      "       [-2.67761865e-04,  1.01318344e-03,  8.52797841e-04,\n",
      "         1.10818750e-03],\n",
      "       [ 1.11939066e-03,  1.48754313e-03, -1.11830068e-03,\n",
      "         8.45833407e-04]]), 'b3': array([[0.],\n",
      "       [0.],\n",
      "       [0.]]), 'W4': array([[-0.00186089, -0.00060289, -0.00191447]]), 'b4': array([[0.]])}\n"
     ]
    }
   ],
   "source": [
    "parameters = initialised_parameters(nn_arch, 3)\n",
    "print(parameters)"
   ]
  },
  {
   "cell_type": "code",
   "execution_count": 54,
   "metadata": {},
   "outputs": [],
   "source": [
    "def sigmoid(z):\n",
    "    return 1/(1+np.exp(-z))"
   ]
  },
  {
   "cell_type": "code",
   "execution_count": 55,
   "metadata": {},
   "outputs": [],
   "source": [
    "def relu(z):\n",
    "    return np.maximum(0,z)"
   ]
  },
  {
   "cell_type": "code",
   "execution_count": 56,
   "metadata": {},
   "outputs": [],
   "source": [
    "# # activation of the first layer is the feature matrix\n",
    "# def forward_propogation(nn_arch, parameters, X):\n",
    "#     forward_cache = {}\n",
    "#     number_of_layers = len(nn_arch)\n",
    "#     A_prev = X          #previous layer's activation\n",
    "#     for l in range(1, number_of_layers):\n",
    "#         W=parameters['W'+str(l)]        #weight for the lth layer\n",
    "#         b = parameters['b'+str(l)]\n",
    "#         activation = nn_arch[l]['activation']\n",
    "#         if activation=='relu':\n",
    "#             forward_cache['Z'+str(l)] = np.dot(W, A_prev)+b\n",
    "#             forward_cache['A'+str(l)] = relu(forward_cache['Z'+str(l)])\n",
    "#         elif activation=='sigmoid':\n",
    "#             forward_cache['Z'+str(l)] = np.dot(W, A_prev)+b\n",
    "#             forward_cache['A'+str(l)] = sigmoid(forward_cache['Z'+str(l)])\n",
    "#         AL = forward_cache['A'+str(l)]\n",
    "#         forward_cache['A0']=X\n",
    "#     return AL, forward_cache\n",
    "\n",
    "# # if the number of activation energies increase, just add them as if-elif cases\n",
    "    \n",
    "#     # AL = Activation of last layer, used for cost computation\n",
    "        \n"
   ]
  },
  {
   "cell_type": "code",
   "execution_count": 57,
   "metadata": {},
   "outputs": [],
   "source": [
    "def forward_propogation(nn_arch, parameters, X):\n",
    "#activation of 0th layer is the input matrix X\n",
    "#need z and activation of each layer ==> save in a dict\n",
    "    forward_cache = {}\n",
    "    no_of_layers = len(nn_arch)\n",
    "    #need to initialize A0\n",
    "    # to find z and activation of each layer we need activation of prev layer\n",
    "    A_prev = X\n",
    "    for l in range(1, no_of_layers):\n",
    "        W=parameters['W'+str(l)] #weight for lth layer\n",
    "        b = parameters['b'+str(l)]\n",
    "        activation = nn_arch[l]['activation']\n",
    "        if activation == \"relu\":\n",
    "            #find Z and A\n",
    "            Z = np.dot(W,A_prev)+b\n",
    "            forward_cache['Z'+str(l)] = Z\n",
    "            forward_cache['A'+str(l)] = relu(Z)\n",
    "        elif activation == \"sigmoid\":\n",
    "            Z = np.dot(W,A_prev)+b\n",
    "            forward_cache['Z'+str(l)] = Z\n",
    "            forward_cache['A'+str(l)] = sigmoid(Z)\n",
    "        A_prev = forward_cache['A'+str(l)]\n",
    "    #activation of last layer => used for cost computation\n",
    "    AL = forward_cache['A'+str(l)]\n",
    "    forward_cache['A0'] = X\n",
    "    #while updating gradient of weight matrix dw=dz A(l-1)\n",
    "    return AL,forward_cache"
   ]
  },
  {
   "cell_type": "code",
   "execution_count": 58,
   "metadata": {},
   "outputs": [],
   "source": [
    "AL, forward_cache = forward_propogation(nn_arch, parameters, X)"
   ]
  },
  {
   "cell_type": "code",
   "execution_count": 59,
   "metadata": {},
   "outputs": [],
   "source": [
    "def compute_cost(AL, Y):\n",
    "    n=Y.shape[1]\n",
    "    cost = (-1/n)*np.sum((Y*np.log(AL))+((1-Y)*np.log(1-AL)))\n",
    "    return np.squeeze(cost)     #to return a value and squeezing it's axes\n"
   ]
  },
  {
   "cell_type": "code",
   "execution_count": 60,
   "metadata": {},
   "outputs": [
    {
     "name": "stdout",
     "output_type": "stream",
     "text": [
      "0.6931471805615643\n"
     ]
    }
   ],
   "source": [
    "cost = compute_cost(AL, Y)\n",
    "print(cost)"
   ]
  },
  {
   "cell_type": "code",
   "execution_count": 61,
   "metadata": {},
   "outputs": [],
   "source": [
    "def sigmoid_backward(dA,Z):\n",
    "    S = sigmoid(Z)\n",
    "    dS = S*(1-S)\n",
    "    return dA*dS"
   ]
  },
  {
   "cell_type": "code",
   "execution_count": 62,
   "metadata": {},
   "outputs": [],
   "source": [
    "def relu_backward(dA,Z):\n",
    "    # S = sigmoid(Z)\n",
    "    dZ = np.array(dA,copy=True)\n",
    "    dZ[dZ>0]=1\n",
    "    dZ[dZ<=0]=0\n",
    "    return dA*dZ"
   ]
  },
  {
   "cell_type": "code",
   "execution_count": 65,
   "metadata": {},
   "outputs": [],
   "source": [
    "def back_propogation(Y,AL,nn_arch,parameters,forward_cache):\n",
    "    grads = {}\n",
    "    number_of_layers = len(nn_arch)\n",
    "    dAL=(AL-Y)/(AL*(1-AL))\n",
    "    dA_prev = dAL\n",
    "    n=Y.shape[1]\n",
    "\n",
    "    # n is the number of examples\n",
    "    # L is for the number of layers\n",
    "    # k is the number of features\n",
    "    for l in reversed(range(1,number_of_layers)):\n",
    "        Z_curr = forward_cache['Z'+str(l)]\n",
    "        W_curr = parameters['W'+str(l)]\n",
    "        A_prev = forward_cache['A'+str(l-1)]       # this is needed of the previous entry\n",
    "        activation = nn_arch[l]['activation']\n",
    "\n",
    "        if activation=='sigmoid':\n",
    "            dZl = sigmoid_backward(dA_prev, Z_curr)\n",
    "            grads['dW'+str(l)]=(1/n)*np.dot(dZl,A_prev.T)     #gradient's dictionary\n",
    "            grads['db'+str(l)]=(1/n)*np.sum(dZl,axis=1,keepdims=True)\n",
    "            dA_prev = np.dot(W_curr.T,dZl)\n",
    "        \n",
    "        elif activation=='relu':\n",
    "            dZl = relu_backward(dA_prev, Z_curr)\n",
    "            grads['dW'+str(l)]=(1/n)*np.dot(dZl,A_prev.T)     #gradient's dictionary\n",
    "            grads['db'+str(l)]=(1/n)*np.sum(dZl,axis=1,keepdims=True)\n",
    "            dA_prev = np.dot(W_curr.T,dZl)\n",
    "\n",
    "    return grads\n",
    "\n"
   ]
  },
  {
   "cell_type": "code",
   "execution_count": 66,
   "metadata": {},
   "outputs": [],
   "source": [
    "grads = back_propogation(Y,AL,nn_arch,parameters,forward_cache)"
   ]
  },
  {
   "cell_type": "code",
   "execution_count": 67,
   "metadata": {},
   "outputs": [],
   "source": [
    "def update_parameters(grads,parameters,lr, nn_arch):\n",
    "    number_of_layers = len(nn_arch)\n",
    "    for l in range(1, number_of_layers):\n",
    "        parameters['W'+str(l)] = parameters['W'+str(l)]-lr*grads['dW'+str(l)]\n",
    "        parameters['b'+str(l)] = parameters['b'+str(l)]-lr*grads['db'+str(l)]\n",
    "    return parameters"
   ]
  },
  {
   "cell_type": "code",
   "execution_count": 68,
   "metadata": {},
   "outputs": [],
   "source": [
    "#all topgether in one prgm to train\n",
    "\n",
    "def training_phase(nn_arch,X,Y,lr,iterations):      #learning rate(lr)\n",
    "    parameters = initialised_parameters(nn_arch,3)\n",
    "    costs=[]\n",
    "    for i in range(iterations):\n",
    "        AL, forward_cache = forward_propogation(nn_arch,parameters,X)\n",
    "        cost = compute_cost(AL,Y)\n",
    "\n",
    "        if(i%100 == 0):\n",
    "            costs.append(cost)\n",
    "            print('Iteration: '+str(i)+' Cost:'+str(cost))\n",
    "        grads = back_propogation(Y,AL,nn_arch,parameters,forward_cache)\n",
    "        parameters = update_parameters(grads,parameters,lr, nn_arch)\n",
    "\n",
    "    return costs, parameters"
   ]
  },
  {
   "cell_type": "code",
   "execution_count": 72,
   "metadata": {},
   "outputs": [
    {
     "name": "stdout",
     "output_type": "stream",
     "text": [
      "Iteration: 0 Cost:0.6931471805615643\n",
      "Iteration: 100 Cost:0.6931471805599454\n",
      "Iteration: 200 Cost:0.6931471805599454\n",
      "Iteration: 300 Cost:0.6931471805599453\n",
      "Iteration: 400 Cost:0.6931471805599454\n",
      "Iteration: 500 Cost:0.6931471805599452\n",
      "Iteration: 600 Cost:0.6931471805599454\n",
      "Iteration: 700 Cost:0.6931471805599452\n",
      "Iteration: 800 Cost:0.6931471805599454\n",
      "Iteration: 900 Cost:0.6931471805599452\n",
      "Iteration: 1000 Cost:0.6931471805599452\n",
      "Iteration: 1100 Cost:0.6931471805599454\n",
      "Iteration: 1200 Cost:0.6931471805599454\n",
      "Iteration: 1300 Cost:0.6931471805599454\n",
      "Iteration: 1400 Cost:0.6931471805599454\n",
      "Iteration: 1500 Cost:0.6931471805599454\n",
      "Iteration: 1600 Cost:0.6931471805599454\n",
      "Iteration: 1700 Cost:0.6931471805599454\n",
      "Iteration: 1800 Cost:0.6931471805599454\n",
      "Iteration: 1900 Cost:0.6931471805599454\n",
      "Iteration: 2000 Cost:0.6931471805599454\n",
      "Iteration: 2100 Cost:0.6931471805599454\n",
      "Iteration: 2200 Cost:0.6931471805599454\n",
      "Iteration: 2300 Cost:0.6931471805599454\n",
      "Iteration: 2400 Cost:0.6931471805599454\n",
      "Iteration: 2500 Cost:0.6931471805599454\n",
      "Iteration: 2600 Cost:0.6931471805599454\n",
      "Iteration: 2700 Cost:0.6931471805599454\n",
      "Iteration: 2800 Cost:0.6931471805599454\n",
      "Iteration: 2900 Cost:0.6931471805599454\n"
     ]
    }
   ],
   "source": [
    "costs, parameters = training_phase(nn_arch, X, Y, 0.01,3000)"
   ]
  },
  {
   "cell_type": "code",
   "execution_count": 73,
   "metadata": {},
   "outputs": [
    {
     "data": {
      "text/plain": [
       "[<matplotlib.lines.Line2D at 0x151538050>]"
      ]
     },
     "execution_count": 73,
     "metadata": {},
     "output_type": "execute_result"
    },
    {
     "data": {
      "image/png": "[encoded data removed]",
      "text/plain": [
       "<Figure size 640x480 with 1 Axes>"
      ]
     },
     "metadata": {},
     "output_type": "display_data"
    }
   ],
   "source": [
    "import matplotlib.pyplot as plt\n",
    "plt.plot(costs)"
   ]
  },
  {
   "cell_type": "code",
   "execution_count": null,
   "metadata": {},
   "outputs": [],
   "source": []
  }
 ],
 "metadata": {
  "kernelspec": {
   "display_name": "django_env",
   "language": "python",
   "name": "python3"
  },
  "language_info": {
   "codemirror_mode": {
    "name": "ipython",
    "version": 3
   },
   "file_extension": ".py",
   "mimetype": "text/x-python",
   "name": "python",
   "nbconvert_exporter": "python",
   "pygments_lexer": "ipython3",
   "version": "3.11.5"
  }
 },
 "nbformat": 4,
 "nbformat_minor": 2
}
